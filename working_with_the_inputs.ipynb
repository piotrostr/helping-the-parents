{
 "cells": [
  {
   "cell_type": "code",
   "execution_count": 1,
   "id": "e8430227-5bd9-4717-9523-b4af6950dd02",
   "metadata": {},
   "outputs": [],
   "source": [
    "import cv2\n",
    "import numpy as np\n",
    "import ffmpeg\n",
    "import torch\n",
    "import matplotlib.pyplot as plt\n",
    "\n",
    "from eve import EVE\n",
    "from EVE.src.datasources.eve_sequences import EVESequencesBase"
   ]
  },
  {
   "cell_type": "code",
   "execution_count": 105,
   "id": "dca6de88-4993-420b-81c8-628fc9facc45",
   "metadata": {},
   "outputs": [],
   "source": [
    "eve = EVE()\n",
    "dataset = EVESequencesBase(\n",
    "    'sample/eve_dataset',\n",
    "    participants_to_use=['train01']\n",
    ")\n",
    "dataloader = torch.utils.data.DataLoader(dataset)"
   ]
  },
  {
   "cell_type": "code",
   "execution_count": 108,
   "id": "8082a289-6375-4310-9495-0003d12ea0f7",
   "metadata": {},
   "outputs": [
    {
     "name": "stdout",
     "output_type": "stream",
     "text": [
      "CPU times: user 2.61 s, sys: 2.23 s, total: 4.84 s\n",
      "Wall time: 9.32 s\n"
     ]
    }
   ],
   "source": [
    "%%time\n",
    "inp = next(iter(dataloader))\n",
    "out = eve(inp)"
   ]
  },
  {
   "cell_type": "code",
   "execution_count": 112,
   "id": "c906bde9-7e5a-4812-8dd1-70c4da5bc22b",
   "metadata": {},
   "outputs": [
    {
     "data": {
      "text/plain": [
       "dict_keys(['camera_matrix', 'camera_transformation', 'face_R', 'face_R_validity', 'face_W', 'face_W_validity', 'face_h', 'face_h_validity', 'face_o', 'face_o_validity', 'facial_landmarks', 'facial_landmarks_validity', 'head_rvec', 'head_rvec_validity', 'head_tvec', 'head_tvec_validity', 'inv_camera_transformation', 'left_R', 'left_R_validity', 'left_W', 'left_W_validity', 'left_h', 'left_h_validity', 'left_o', 'left_o_validity', 'millimeters_per_pixel', 'pixels_per_millimeter', 'right_R', 'right_R_validity', 'right_W', 'right_W_validity', 'right_h', 'right_h_validity', 'right_o', 'right_o_validity', 'head_R', 'timestamps', 'left_eye_patch', 'right_eye_patch', 'screen_timestamps', 'screen_frame', 'participant', 'subfolder', 'camera', 'left_kappa_fake', 'right_kappa_fake', 'o', 'o_validity'])"
      ]
     },
     "execution_count": 112,
     "metadata": {},
     "output_type": "execute_result"
    }
   ],
   "source": [
    "# todo check which of those keys below are required\n",
    "# there is 30 values, one for each of the frames\n",
    "# also gotta check if this is going to work with 30hz and 60hz\n",
    "\n",
    "inp.keys()"
   ]
  },
  {
   "cell_type": "code",
   "execution_count": 113,
   "id": "f4d6ff97-6710-4cf3-a87c-a3c9d363733a",
   "metadata": {},
   "outputs": [
    {
     "data": {
      "text/plain": [
       "tensor([3.4720, 3.4727])"
      ]
     },
     "execution_count": 113,
     "metadata": {},
     "output_type": "execute_result"
    }
   ],
   "source": [
    "inp['pixels_per_millimeter'][0][0]  # those each are the same"
   ]
  },
  {
   "cell_type": "code",
   "execution_count": 82,
   "id": "d1ee1bfe-9442-4396-bacc-d44521cefef5",
   "metadata": {},
   "outputs": [
    {
     "data": {
      "text/plain": [
       "tensor([0.2880, 0.2880])"
      ]
     },
     "execution_count": 82,
     "metadata": {},
     "output_type": "execute_result"
    }
   ],
   "source": [
    "inp['millimeters_per_pixel'][0][0]  # the same"
   ]
  },
  {
   "cell_type": "code",
   "execution_count": 114,
   "id": "e366e675-c035-44ff-9c10-aa1e4e92f701",
   "metadata": {},
   "outputs": [
    {
     "data": {
      "text/plain": [
       "tensor([[ -8.8352, -60.9810, 660.5889],\n",
       "        [ -8.5575, -61.4053, 663.1761],\n",
       "        [ -8.7053, -62.0922, 665.7507]])"
      ]
     },
     "execution_count": 114,
     "metadata": {},
     "output_type": "execute_result"
    }
   ],
   "source": [
    "inp['face_o'][0][:3]  # those each are different"
   ]
  },
  {
   "cell_type": "code",
   "execution_count": 115,
   "id": "cfd67eb4-dab9-401c-aa9d-13e08c321034",
   "metadata": {},
   "outputs": [
    {
     "data": {
      "text/plain": [
       "tensor([True, True, True, True, True, True, True, True, True, True, True, True,\n",
       "        True, True, True, True, True, True, True, True, True, True, True, True,\n",
       "        True, True, True, True, True, True])"
      ]
     },
     "execution_count": 115,
     "metadata": {},
     "output_type": "execute_result"
    }
   ],
   "source": [
    "inp['head_tvec_validity'][0]  # the same"
   ]
  },
  {
   "cell_type": "code",
   "execution_count": 116,
   "id": "658aadf2-c802-4b74-974c-64b4a8358d96",
   "metadata": {},
   "outputs": [
    {
     "data": {
      "text/plain": [
       "tensor([[ 0.9995,  0.0270, -0.0140],\n",
       "        [-0.0178,  0.8929,  0.4499],\n",
       "        [ 0.0247, -0.4494,  0.8930]])"
      ]
     },
     "execution_count": 116,
     "metadata": {},
     "output_type": "execute_result"
    }
   ],
   "source": [
    "inp['head_R'][0][0]  # each of those is the same"
   ]
  },
  {
   "cell_type": "code",
   "execution_count": 117,
   "id": "9561fd8e-34ee-4197-b80d-c0eacbf03b99",
   "metadata": {},
   "outputs": [
    {
     "data": {
      "text/plain": [
       "tensor([[1.7806e+03, 0.0000e+00, 9.5933e+02],\n",
       "        [0.0000e+00, 1.7799e+03, 5.7931e+02],\n",
       "        [0.0000e+00, 0.0000e+00, 1.0000e+00]])"
      ]
     },
     "execution_count": 117,
     "metadata": {},
     "output_type": "execute_result"
    }
   ],
   "source": [
    "inp['camera_matrix'][0][0]  # those are also the same"
   ]
  },
  {
   "cell_type": "code",
   "execution_count": 118,
   "id": "741ade27-e785-441f-bab4-56e63683594e",
   "metadata": {},
   "outputs": [
    {
     "data": {
      "text/plain": [
       "tensor([[-9.9982e-01,  1.3867e-02,  1.2878e-02,  2.6548e+02],\n",
       "        [ 8.8855e-03,  9.4480e-01, -3.2753e-01, -4.2145e+02],\n",
       "        [-1.6709e-02, -3.2736e-01, -9.4475e-01,  1.4902e+02],\n",
       "        [ 0.0000e+00,  0.0000e+00,  0.0000e+00,  1.0000e+00]])"
      ]
     },
     "execution_count": 118,
     "metadata": {},
     "output_type": "execute_result"
    }
   ],
   "source": [
    "inp['camera_transformation'][0][0]  # those are also the same"
   ]
  },
  {
   "cell_type": "code",
   "execution_count": 119,
   "id": "ef9ee796-67ed-425b-9890-5c479d74d0da",
   "metadata": {},
   "outputs": [
    {
     "data": {
      "text/plain": [
       "torch.Size([1, 30])"
      ]
     },
     "execution_count": 119,
     "metadata": {},
     "output_type": "execute_result"
    }
   ],
   "source": [
    "inp['face_R_validity'].shape"
   ]
  },
  {
   "cell_type": "code",
   "execution_count": 120,
   "id": "d8faee25-766b-4885-8bb4-f7cbd99e6743",
   "metadata": {},
   "outputs": [],
   "source": [
    "frame = inp['screen_frame']"
   ]
  },
  {
   "cell_type": "code",
   "execution_count": 121,
   "id": "04cc644c-89ca-439f-9b1b-81a1277ba90a",
   "metadata": {},
   "outputs": [
    {
     "data": {
      "text/plain": [
       "(128, 72, 3, 30)"
      ]
     },
     "execution_count": 121,
     "metadata": {},
     "output_type": "execute_result"
    }
   ],
   "source": [
    "frame.numpy().squeeze().transpose().shape"
   ]
  },
  {
   "cell_type": "code",
   "execution_count": 127,
   "id": "6d97c858-00c2-4c2e-a280-4a53094fe727",
   "metadata": {},
   "outputs": [],
   "source": [
    "one = frame.numpy().squeeze().transpose(0, 3, 2, 1)[0]"
   ]
  },
  {
   "cell_type": "code",
   "execution_count": 130,
   "id": "7bf81d98-4c47-4154-9c31-3ca686ee664f",
   "metadata": {},
   "outputs": [
    {
     "data": {
      "text/plain": [
       "<matplotlib.image.AxesImage at 0x173bbfc40>"
      ]
     },
     "execution_count": 130,
     "metadata": {},
     "output_type": "execute_result"
    },
    {
     "data": {
      "image/png": "[encoded data removed]",
      "text/plain": [
       "<Figure size 432x288 with 1 Axes>"
      ]
     },
     "metadata": {
      "needs_background": "light"
     },
     "output_type": "display_data"
    }
   ],
   "source": [
    "plt.imshow(one.astype(int))"
   ]
  },
  {
   "cell_type": "code",
   "execution_count": 131,
   "id": "48d2cc21-6c83-4b8d-9f55-8ec540fbb9f9",
   "metadata": {},
   "outputs": [
    {
     "data": {
      "text/plain": [
       "(128, 72, 3)"
      ]
     },
     "execution_count": 131,
     "metadata": {},
     "output_type": "execute_result"
    }
   ],
   "source": [
    "one.shape"
   ]
  },
  {
   "cell_type": "code",
   "execution_count": 134,
   "id": "e930204c-7f05-4c53-9bac-5523b15d1d7d",
   "metadata": {},
   "outputs": [],
   "source": [
    "one_hd = cv2.resize(one.astype(float), dsize=(1080, 1920))"
   ]
  },
  {
   "cell_type": "code",
   "execution_count": 135,
   "id": "3c3003e0-5bc1-4502-84df-5a1245a8d40c",
   "metadata": {},
   "outputs": [
    {
     "data": {
      "text/plain": [
       "<matplotlib.image.AxesImage at 0x161afd430>"
      ]
     },
     "execution_count": 135,
     "metadata": {},
     "output_type": "execute_result"
    },
    {
     "data": {
      "image/png": "[encoded data removed]",
      "text/plain": [
       "<Figure size 432x288 with 1 Axes>"
      ]
     },
     "metadata": {
      "needs_background": "light"
     },
     "output_type": "display_data"
    }
   ],
   "source": [
    "plt.imshow(one_hd.astype(int))"
   ]
  }
 ],
 "metadata": {
  "kernelspec": {
   "display_name": "Python 3 (ipykernel)",
   "language": "python",
   "name": "python3"
  },
  "language_info": {
   "codemirror_mode": {
    "name": "ipython",
    "version": 3
   },
   "file_extension": ".py",
   "mimetype": "text/x-python",
   "name": "python",
   "nbconvert_exporter": "python",
   "pygments_lexer": "ipython3",
   "version": "3.9.6"
  }
 },
 "nbformat": 4,
 "nbformat_minor": 5
}
