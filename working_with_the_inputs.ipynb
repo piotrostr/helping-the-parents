{
 "cells": [
  {
   "cell_type": "code",
   "execution_count": 1,
   "id": "5da6fcfc-c755-41eb-8797-b759db3e76c2",
   "metadata": {},
   "outputs": [],
   "source": [
    "import cv2\n",
    "import cv2 as cv\n",
    "import numpy as np\n",
    "import ffmpeg\n",
    "import torch\n",
    "import matplotlib.pyplot as plt\n",
    "\n",
    "from eve import EVE\n",
    "from datetime import datetime\n",
    "from config import DefaultConfig\n",
    "\n",
    "from preprocess import get_frames_and_timestamps, preprocess_frames\n",
    "from utils import get_sample_input\n",
    "\n",
    "config = DefaultConfig()"
   ]
  },
  {
   "cell_type": "code",
   "execution_count": 20,
   "id": "d083d3bf-a84a-4b0c-bb17-3e8e6c4daa26",
   "metadata": {},
   "outputs": [
    {
     "name": "stdout",
     "output_type": "stream",
     "text": [
      "Parsing frames...\n",
      ".......................................................................................................................................................................................................\n",
      "Done!\n"
     ]
    }
   ],
   "source": [
    "screen_frame, screen_timestamps = get_frames_and_timestamps('./videos/scene.mp4')"
   ]
  },
  {
   "cell_type": "code",
   "execution_count": 95,
   "id": "069367d4-4e07-4ffc-9193-687cc7278ec3",
   "metadata": {},
   "outputs": [
    {
     "name": "stdout",
     "output_type": "stream",
     "text": [
      "Parsing frames...\n",
      ".......................................................................................................................................................................................................\n",
      "Done!\n"
     ]
    }
   ],
   "source": [
    "eyes_frame, timestamps = get_frames_and_timestamps('./videos/eyes.mp4')"
   ]
  },
  {
   "cell_type": "code",
   "execution_count": 102,
   "id": "045a6695-c9b7-404b-b7ab-574c940dafb7",
   "metadata": {},
   "outputs": [],
   "source": [
    "left_eye_patch = eyes_frame[:, :, :128]"
   ]
  },
  {
   "cell_type": "code",
   "execution_count": 106,
   "id": "913c201d-e89b-4dbc-8946-60d078ce19f5",
   "metadata": {},
   "outputs": [],
   "source": [
    "right_eye_patch = eyes_frame[:, :, 128:]"
   ]
  },
  {
   "cell_type": "code",
   "execution_count": 2,
   "id": "dca6de88-4993-420b-81c8-628fc9facc45",
   "metadata": {
    "tags": []
   },
   "outputs": [],
   "source": [
    "inp = get_sample_input()"
   ]
  },
  {
   "cell_type": "code",
   "execution_count": null,
   "id": "704dec0e-40b3-432d-b0f4-cfff5d4a2f7c",
   "metadata": {},
   "outputs": [],
   "source": [
    "eve = EVE().eval()"
   ]
  },
  {
   "cell_type": "code",
   "execution_count": 108,
   "id": "8082a289-6375-4310-9495-0003d12ea0f7",
   "metadata": {},
   "outputs": [
    {
     "name": "stdout",
     "output_type": "stream",
     "text": [
      "CPU times: user 1min 17s, sys: 13.1 s, total: 1min 30s\n",
      "Wall time: 14 s\n"
     ]
    },
    {
     "data": {
      "text/plain": [
       "True"
      ]
     },
     "execution_count": 108,
     "metadata": {},
     "output_type": "execute_result"
    }
   ],
   "source": [
    "%%time\n",
    "out_ok = eve(inp, create_images=True)\n",
    "out_ok_ = eve(inp, create_images=True)\n",
    "torch.equal(out_ok['PoG_px_final'], out_ok_['PoG_px_final'])"
   ]
  },
  {
   "cell_type": "code",
   "execution_count": 109,
   "id": "bfb8f061-cc1a-4d80-972a-5cafdc2003b0",
   "metadata": {
    "tags": []
   },
   "outputs": [],
   "source": [
    "required_params = [\n",
    "    'left_o',\n",
    "    'left_o_validity',\n",
    "    'right_o',\n",
    "    'right_o_validity',\n",
    "    \n",
    "    'camera_transformation', \n",
    "    'inv_camera_transformation', \n",
    "    \n",
    "    'left_R', \n",
    "    'left_R_validity',\n",
    "    \n",
    "    'right_R',\n",
    "    'right_R_validity',\n",
    "    \n",
    "    'left_h', \n",
    "    'left_h_validity',\n",
    "    \n",
    "    'right_h',\n",
    "    'right_h_validity',\n",
    "    \n",
    "    'head_R',\n",
    "    \n",
    "    'millimeters_per_pixel',\n",
    "    'pixels_per_millimeter',\n",
    "    \n",
    "    'left_eye_patch',\n",
    "    'right_eye_patch',\n",
    "    'timestamps',\n",
    "    \n",
    "    'screen_timestamps', \n",
    "    'screen_frame'\n",
    "]    "
   ]
  },
  {
   "cell_type": "code",
   "execution_count": 110,
   "id": "d7597a96-d74c-4cc2-b47e-aef9397009ff",
   "metadata": {},
   "outputs": [],
   "source": [
    "pixels_per_millimeter = [3.4720, 3.4727]\n",
    "millimeters_per_pixel = [0.2880, 0.2880]"
   ]
  },
  {
   "cell_type": "code",
   "execution_count": 237,
   "id": "dbd86b4a-e362-4619-889a-d0d2ecbd7c4b",
   "metadata": {},
   "outputs": [
    {
     "data": {
      "text/plain": [
       "dict_keys(['camera_matrix', 'camera_transformation', 'face_R', 'face_R_validity', 'face_W', 'face_W_validity', 'face_h', 'face_h_validity', 'face_o', 'face_o_validity', 'facial_landmarks', 'facial_landmarks_validity', 'head_rvec', 'head_rvec_validity', 'head_tvec', 'head_tvec_validity', 'inv_camera_transformation', 'left_R', 'left_R_validity', 'left_W', 'left_W_validity', 'left_h', 'left_h_validity', 'left_o', 'left_o_validity', 'millimeters_per_pixel', 'pixels_per_millimeter', 'right_R', 'right_R_validity', 'right_W', 'right_W_validity', 'right_h', 'right_h_validity', 'right_o', 'right_o_validity', 'head_R', 'timestamps', 'left_eye_patch', 'right_eye_patch', 'screen_timestamps', 'screen_frame', 'participant', 'subfolder', 'camera'])"
      ]
     },
     "execution_count": 237,
     "metadata": {},
     "output_type": "execute_result"
    }
   ],
   "source": [
    "inp.keys()"
   ]
  },
  {
   "cell_type": "code",
   "execution_count": 240,
   "id": "6c80b739-2ea2-4ca1-a18a-5d8d2bb6b2fe",
   "metadata": {
    "tags": []
   },
   "outputs": [],
   "source": [
    "trimmed_inp = inp.copy()\n",
    "\n",
    "# those params have no influence on the error\n",
    "del trimmed_inp['face_R']\n",
    "del trimmed_inp['face_R_validity']\n",
    "del trimmed_inp['face_W']\n",
    "del trimmed_inp['face_W_validity']\n",
    "del trimmed_inp['face_h']\n",
    "del trimmed_inp['face_h_validity']\n",
    "del trimmed_inp['face_o']\n",
    "del trimmed_inp['face_o_validity']\n",
    "del trimmed_inp['camera_matrix']\n",
    "del trimmed_inp['facial_landmarks']\n",
    "del trimmed_inp['facial_landmarks_validity']\n",
    "del trimmed_inp['head_rvec']\n",
    "del trimmed_inp['head_rvec_validity']\n",
    "del trimmed_inp['head_tvec']\n",
    "del trimmed_inp['head_tvec_validity']\n",
    "del trimmed_inp['participant']\n",
    "del trimmed_inp['subfolder']\n",
    "del trimmed_inp['camera']\n",
    "try:\n",
    "    del trimmed_inp['o']\n",
    "    del trimmed_inp['o_validity']\n",
    "except:\n",
    "    pass\n",
    "del trimmed_inp['left_W']\n",
    "del trimmed_inp['left_W_validity']\n",
    "del trimmed_inp['right_W']\n",
    "del trimmed_inp['right_W_validity']"
   ]
  },
  {
   "cell_type": "code",
   "execution_count": 245,
   "id": "86fca4c3-6a77-4e66-b78e-0aefcebf22ef",
   "metadata": {},
   "outputs": [],
   "source": [
    "x, n, h, w = trimmed_inp['camera_transformation'].shape"
   ]
  },
  {
   "cell_type": "code",
   "execution_count": 244,
   "id": "83d62a87-9689-42d9-9a63-ae461aa0f4e3",
   "metadata": {},
   "outputs": [
    {
     "data": {
      "text/plain": [
       "torch.Size([4, 4])"
      ]
     },
     "execution_count": 244,
     "metadata": {},
     "output_type": "execute_result"
    }
   ],
   "source": [
    "torch.Tensor(camera_transformation_mean).shape"
   ]
  },
  {
   "cell_type": "code",
   "execution_count": 255,
   "id": "138ff33e-7a16-469e-8d7c-3e8516da0804",
   "metadata": {},
   "outputs": [],
   "source": [
    "trimmed_inp['camera_transformation'] = torch.Tensor([camera_transformation_mean for i in range(n)]).unsqueeze(0)"
   ]
  },
  {
   "cell_type": "code",
   "execution_count": 256,
   "id": "a31078fc-ef61-4a37-ac65-bc125cec0601",
   "metadata": {},
   "outputs": [
    {
     "data": {
      "text/plain": [
       "torch.Size([1, 30, 4, 4])"
      ]
     },
     "execution_count": 256,
     "metadata": {},
     "output_type": "execute_result"
    }
   ],
   "source": [
    "trimmed_inp['camera_transformation'].shape"
   ]
  },
  {
   "cell_type": "code",
   "execution_count": 257,
   "id": "a792fbb5-e6f0-40f6-ae46-266ee8d44039",
   "metadata": {},
   "outputs": [],
   "source": [
    "# those two below are crucial, they make or break the inference\n",
    "shape = inp['camera_transformation'].shape\n",
    "# trimmed_inp['camera_transformation'] = torch.zeros(shape)\n",
    "trimmed_inp['inv_camera_transformation'] = torch.zeros(shape)"
   ]
  },
  {
   "cell_type": "code",
   "execution_count": 263,
   "id": "429ca587-5b02-489e-8942-6a23d6485635",
   "metadata": {},
   "outputs": [],
   "source": [
    "inp = next(iter(dataloader))"
   ]
  },
  {
   "cell_type": "code",
   "execution_count": 258,
   "id": "2fec8a01-1b9a-4d79-89df-3183d5a7b1e4",
   "metadata": {},
   "outputs": [
    {
     "name": "stdout",
     "output_type": "stream",
     "text": [
      "Error:  886.468697%\n"
     ]
    },
    {
     "data": {
      "text/plain": [
       "['o', 'o_validity']"
      ]
     },
     "execution_count": 258,
     "metadata": {},
     "output_type": "execute_result"
    }
   ],
   "source": [
    "out_meh = eve(trimmed_inp, create_images=True)\n",
    "\n",
    "pog_ok = out_ok['PoG_px_final'].type(torch.int32)\n",
    "pog_meh = out_meh['PoG_px_final'].type(torch.int32)\n",
    "\n",
    "err = (abs(pog_ok - pog_meh) / pog_meh).mean()\n",
    "err = err.type(torch.float).mean().detach().numpy()\n",
    "\n",
    "print(f'Error: {err: %}')\n",
    "[k for k in trimmed_inp.keys() if k not in required_params]"
   ]
  },
  {
   "cell_type": "markdown",
   "id": "551cdacc-a158-4c37-8865-e13ae6151d41",
   "metadata": {},
   "source": [
    "^ o and o_validity are not required but they are put back onto input automatically post-inference"
   ]
  },
  {
   "cell_type": "code",
   "execution_count": 5,
   "id": "be0b8c75-6d5d-4245-aadc-bcf0c1edd35d",
   "metadata": {},
   "outputs": [
    {
     "data": {
      "text/plain": [
       "dict_keys(['left_pupil_size', 'right_pupil_size', 'left_g_initial', 'PoG_px_initial', 'g_final', 'PoG_px_final', 'timestamps', 'o', 'left_R', 'head_R', 'g_initial', 'PoG_cm_initial', 'millimeters_per_pixel', 'pixels_per_millimeter', 'camera_transformation', 'inv_camera_transformation', 'PoG_cm_final', 'full_loss', 'both_eye_patch', 'screen_frame', 'initial_heatmap', 'final_heatmap', 'refined_gaze_history'])"
      ]
     },
     "execution_count": 5,
     "metadata": {},
     "output_type": "execute_result"
    }
   ],
   "source": [
    "out.keys()"
   ]
  },
  {
   "cell_type": "code",
   "execution_count": 7,
   "id": "7f55bf0a-e36b-4ac7-9f90-a848403919fe",
   "metadata": {},
   "outputs": [
    {
     "data": {
      "text/plain": [
       "tensor([[1.7806e+03, 0.0000e+00, 9.5933e+02],\n",
       "        [0.0000e+00, 1.7799e+03, 5.7931e+02],\n",
       "        [0.0000e+00, 0.0000e+00, 1.0000e+00]])"
      ]
     },
     "execution_count": 7,
     "metadata": {},
     "output_type": "execute_result"
    }
   ],
   "source": [
    "inp['camera_matrix'][0][0]"
   ]
  },
  {
   "cell_type": "code",
   "execution_count": 2,
   "id": "917f31a6-3e7a-43f7-bd62-663338f1d001",
   "metadata": {},
   "outputs": [
    {
     "data": {
      "text/plain": [
       "datetime.datetime(1970, 1, 11, 18, 10, 3, 997834)"
      ]
     },
     "execution_count": 2,
     "metadata": {},
     "output_type": "execute_result"
    }
   ],
   "source": [
    "from datetime import datetime\n",
    "\n",
    "unix = 9.258039978340000000e+14\n",
    "\n",
    "unix *= 1e-9\n",
    "\n",
    "datetime.fromtimestamp(unix)"
   ]
  },
  {
   "cell_type": "code",
   "execution_count": null,
   "id": "8591e411-c0a6-4160-9232-0a6850d8a418",
   "metadata": {},
   "outputs": [],
   "source": [
    "from utils import list_keys\n",
    "list_keys(inp)"
   ]
  },
  {
   "cell_type": "code",
   "execution_count": null,
   "id": "28672eac-2ca0-4903-b28a-402e5bd0297b",
   "metadata": {},
   "outputs": [],
   "source": [
    "inp['millimeters_per_pixel'][0][0]  # the same\n",
    "\n",
    "inp['face_o'][0][:3]  # those each are different\n",
    "\n",
    "inp['head_tvec_validity'][0]  # the same\n",
    "\n",
    "inp['head_R'][0][0]  # each of those is the same\n",
    "\n",
    "inp['camera_matrix'][0][0]  # those are also the same\n",
    "\n",
    "inp['camera_transformation'][0][0]  # those are also the same"
   ]
  },
  {
   "cell_type": "code",
   "execution_count": 127,
   "id": "6d97c858-00c2-4c2e-a280-4a53094fe727",
   "metadata": {},
   "outputs": [],
   "source": [
    "one = frame.numpy().squeeze().transpose(0, 3, 2, 1)[0]"
   ]
  },
  {
   "cell_type": "code",
   "execution_count": 130,
   "id": "7bf81d98-4c47-4154-9c31-3ca686ee664f",
   "metadata": {},
   "outputs": [
    {
     "data": {
      "text/plain": [
       "<matplotlib.image.AxesImage at 0x173bbfc40>"
      ]
     },
     "execution_count": 130,
     "metadata": {},
     "output_type": "execute_result"
    },
    {
     "data": {
      "image/png": "[encoded data removed]",
      "text/plain": [
       "<Figure size 432x288 with 1 Axes>"
      ]
     },
     "metadata": {
      "needs_background": "light"
     },
     "output_type": "display_data"
    }
   ],
   "source": [
    "plt.imshow(one.astype(int))"
   ]
  },
  {
   "cell_type": "code",
   "execution_count": null,
   "id": "48d2cc21-6c83-4b8d-9f55-8ec540fbb9f9",
   "metadata": {},
   "outputs": [
    {
     "data": {
      "text/plain": [
       "(128, 72, 3)"
      ]
     },
     "execution_count": 131,
     "metadata": {},
     "output_type": "execute_result"
    }
   ],
   "source": [
    "one.shape"
   ]
  },
  {
   "cell_type": "code",
   "execution_count": 41,
   "id": "a2f850fd-f4ef-46d5-8a51-6a017e621c24",
   "metadata": {},
   "outputs": [
    {
     "data": {
      "text/plain": [
       "<matplotlib.image.AxesImage at 0x317e22100>"
      ]
     },
     "execution_count": 41,
     "metadata": {},
     "output_type": "execute_result"
    },
    {
     "data": {
      "image/png": "[encoded data removed]",
      "text/plain": [
       "<Figure size 432x288 with 1 Axes>"
      ]
     },
     "metadata": {
      "needs_background": "light"
     },
     "output_type": "display_data"
    }
   ],
   "source": [
    "plt.imshow(all_eyes.squeeze().transpose(0, 2, 1, 3)[0])"
   ]
  },
  {
   "cell_type": "markdown",
   "id": "3b41dbba-4968-4ff2-86d0-a4d04643fb0e",
   "metadata": {},
   "source": [
    "numpize all the outputs"
   ]
  },
  {
   "cell_type": "code",
   "execution_count": 9,
   "id": "bccb3367-4a8c-4d35-a561-5c4d20020a17",
   "metadata": {},
   "outputs": [],
   "source": [
    "inputs = {\n",
    "    k: v.numpy() if isinstance(v, torch.Tensor) else v\n",
    "    for k, v in inp.items()\n",
    "}"
   ]
  },
  {
   "cell_type": "code",
   "execution_count": 10,
   "id": "3a06179d-d322-4275-9252-bfe70aa7e151",
   "metadata": {},
   "outputs": [],
   "source": [
    "outputs = {\n",
    "    k: v.detach().numpy() if isinstance(v, torch.Tensor) else v\n",
    "    for k, v in out.items()\n",
    "}"
   ]
  },
  {
   "cell_type": "code",
   "execution_count": null,
   "id": "084d6f17-2bce-4ffc-aecd-25322ddc161b",
   "metadata": {
    "tags": []
   },
   "outputs": [],
   "source": [
    "# Visualize\n",
    "we_have_gt = 'left_g_gt' in outputs\n",
    "all_g_init = outputs['left_g_initial']\n",
    "if config.load_full_frame_for_visualization:\n",
    "    all_eyes = outputs['both_eye_patch']\n",
    "    all_eyes = (all_eyes + 1.0) * (255.0 / 2.0)\n",
    "    all_eyes = all_eyes.astype(np.uint8)\n",
    "    all_eyes = np.transpose(all_eyes, [0, 1, 3, 4, 2])[:, :, :, :, ::-1]\n",
    "    if 'screen_full_frame' in inputs:\n",
    "        all_screen = inputs['screen_full_frame']\n",
    "        all_screen = all_screen.astype(np.uint8)\n",
    "        all_screen = all_screen[:, :, :, :, ::-1]  # RGB to BGR\n",
    "all_PoG_init = outputs['PoG_px_initial']\n",
    "if config.load_screen_content:\n",
    "    all_g_final = outputs['g_final']\n",
    "    all_PoG_final = outputs['PoG_px_final']\n",
    "if we_have_gt:\n",
    "    all_g_gt = outputs['left_g_gt']\n",
    "    all_PoG_gt = outputs['PoG_px_gt']\n",
    "    all_PoG_gt_validity = outputs['PoG_px_gt_validity']\n",
    "num_entries = all_g_init.shape[0]\n",
    "sequence_len = all_g_init.shape[1]\n",
    "for index in range(num_entries):\n",
    "    if config.load_full_frame_for_visualization:\n",
    "        eyes = all_eyes[index, :]\n",
    "        if 'screen_full_frame' in inputs:\n",
    "            screen = all_screen[index, :]\n",
    "    g_init = all_g_init[index, :]\n",
    "    PoG_init = all_PoG_init[index, :]\n",
    "    if config.load_screen_content:\n",
    "        g_final = all_g_final[index, :]\n",
    "        PoG_final = all_PoG_final[index, :]\n",
    "    if we_have_gt:\n",
    "        g_gt = all_g_gt[index, :]\n",
    "        PoG_gt = all_PoG_gt[index, :]\n",
    "        gt_validity = all_PoG_gt_validity[index, :]\n",
    "    final_out_frames = {\n",
    "        'screen_yrg': [screen[t, :] for t in range(sequence_len)],\n",
    "    }\n",
    "\n",
    "    for suffix, frames in final_out_frames.items():\n",
    "        frames = [np.copy(frame.transpose(2, 1, 0)) for frame in frames]        \n",
    "        # Choose whether to mirror frame\n",
    "        _g_init = np.copy(g_init)\n",
    "        _PoG_init = np.copy(PoG_init)\n",
    "        if config.load_screen_content:\n",
    "            _g_final = np.copy(g_final)\n",
    "            _PoG_final = np.copy(PoG_final)\n",
    "        if we_have_gt:\n",
    "            _g_gt = np.copy(g_gt)\n",
    "            _PoG_gt = np.copy(PoG_gt)\n",
    "            _gt_validity = np.copy(gt_validity)\n",
    "        if suffix.startswith('mirrored_'):\n",
    "            frames = [np.ascontiguousarray(np.fliplr(frame)) for frame in frames]\n",
    "            if config.load_screen_content:\n",
    "                _PoG_final[:, 0] = 1920.0 - _PoG_final[:, 0]\n",
    "                _g_final[:, 1] = -_g_final[:, 1]\n",
    "            _PoG_init[:, 0] = 1920.0 - _PoG_init[:, 0]\n",
    "            _g_init[:, 1] = -_g_init[:, 1]\n",
    "            if we_have_gt:\n",
    "                _PoG_gt[:, 0] = 1920.0 - _PoG_gt[:, 0]\n",
    "                _g_gt[:, 1] = -_g_gt[:, 1]\n",
    "        _all_valid = np.ones((sequence_len, ), dtype=np.bool)\n",
    "\n",
    "        if 'screen' in suffix:\n",
    "            # Choose what to draw\n",
    "            to_draw = []\n",
    "            last_bit = suffix.split('_')[-1]\n",
    "            is_drawing_gt = 'r' in last_bit\n",
    "            for char in list(last_bit):\n",
    "                if char == 'y':\n",
    "                    to_draw.append(('Initial Estimate', _PoG_init, _all_valid,\n",
    "                                   [0, 180, 180]))\n",
    "                elif char == 'g':\n",
    "                    to_draw.append(('After Refinement (Ours)', _PoG_final, _all_valid,\n",
    "                                   [0, 180, 0]))\n",
    "                elif char == 'r':\n",
    "                    if we_have_gt:\n",
    "                        to_draw.append(('Tobii Data (Groundtruth)', _PoG_gt, _gt_validity,\n",
    "                                       [0, 0, 180]))\n",
    "                else:\n",
    "                    raise ValueError('Invalid thing to draw: %s' % char)\n",
    "\n",
    "            if we_have_gt and is_drawing_gt:\n",
    "                # Draw error/residual \"labels\"\n",
    "                for label, PoG_list, validity, colour in to_draw:\n",
    "                    for t, (x, y) in enumerate(PoG_list):\n",
    "                        if 'Groundtruth' not in label and _gt_validity[t] == 1:\n",
    "                            x_gt, y_gt = _PoG_gt[t, :]\n",
    "                            cv.line(frames[t], (x, y), (x_gt, y_gt), color=[0, 0, 0],\n",
    "                                    thickness=5, lineType=cv.LINE_AA)\n",
    "                            cv.line(frames[t], (x, y), (x_gt, y_gt), color=colour,\n",
    "                                    thickness=2, lineType=cv.LINE_AA)\n",
    "\n",
    "            # Draw fixation circles\n",
    "            for _, PoG_list, validity, colour in to_draw:\n",
    "                for t, (x, y) in enumerate(PoG_list):\n",
    "                    if validity[t] == 1:\n",
    "                        print(frames[t].shape)\n",
    "                        dat_frame = frames[t]\n",
    "                        cv.circle(frames[t], (x, y), radius=14, color=[0, 0, 0],\n",
    "                                  thickness=-1, lineType=cv.LINE_AA)\n",
    "                        cv.circle(frames[t], (x, y), radius=10, color=colour,\n",
    "                                  thickness=-1, lineType=cv.LINE_AA)\n",
    "\n",
    "            # Now label with a \"legend\"\n",
    "            for t in range(sequence_len):\n",
    "                offset_dy = 0\n",
    "                for label, _, _, colour in to_draw:\n",
    "                    offset_x = 50\n",
    "                    offset_y = 90 + offset_dy\n",
    "                    cv.putText(frames[t], label, org=(offset_x, offset_y),\n",
    "                               fontFace=cv.FONT_HERSHEY_DUPLEX, fontScale=1.6,\n",
    "                               color=[0, 0, 0], thickness=9, lineType=cv.LINE_AA)\n",
    "                    cv.putText(frames[t], label, org=(offset_x, offset_y),\n",
    "                               fontFace=cv.FONT_HERSHEY_DUPLEX, fontScale=1.6,\n",
    "                               color=colour, thickness=2, lineType=cv.LINE_AA)\n",
    "                    offset_dy += 80"
   ]
  },
  {
   "cell_type": "code",
   "execution_count": 129,
   "id": "10914d66-6f24-46eb-a8dd-109709852325",
   "metadata": {},
   "outputs": [
    {
     "data": {
      "text/plain": [
       "(1, 1, 72, 128)"
      ]
     },
     "execution_count": 129,
     "metadata": {},
     "output_type": "execute_result"
    }
   ],
   "source": [
    "outputs['final_heatmap'].shape"
   ]
  },
  {
   "cell_type": "code",
   "execution_count": 131,
   "id": "cd4124ee-8972-4cb5-86b7-565060f0dd85",
   "metadata": {},
   "outputs": [
    {
     "data": {
      "text/plain": [
       "array([[[[7.9507887e-04, 2.3905448e-05, 2.0349207e-05, ...,\n",
       "          1.4132869e-05, 2.4584566e-05, 8.6931727e-04],\n",
       "         [3.9339735e-05, 2.8538850e-07, 2.0966429e-07, ...,\n",
       "          1.7660605e-07, 3.6887170e-07, 5.8417867e-05],\n",
       "         [3.1582586e-05, 1.7856398e-07, 1.1397826e-07, ...,\n",
       "          1.0160696e-07, 2.1219887e-07, 4.2072923e-05],\n",
       "         ...,\n",
       "         [1.6961612e-05, 7.9440227e-08, 5.0405696e-08, ...,\n",
       "          6.5933925e-08, 7.5935674e-08, 2.2999006e-05],\n",
       "         [1.1452198e-05, 5.7859012e-08, 3.1774167e-08, ...,\n",
       "          2.6920956e-08, 3.4043609e-08, 1.2881868e-05],\n",
       "         [7.7666261e-04, 2.4954403e-05, 1.6399055e-05, ...,\n",
       "          1.1738554e-05, 1.4117460e-05, 7.0119876e-04]]]], dtype=float32)"
      ]
     },
     "execution_count": 131,
     "metadata": {},
     "output_type": "execute_result"
    }
   ],
   "source": [
    "outputs['final_heatmap']"
   ]
  },
  {
   "cell_type": "code",
   "execution_count": 130,
   "id": "09dc7726-b970-4066-993a-f8036eeb369e",
   "metadata": {},
   "outputs": [
    {
     "data": {
      "text/plain": [
       "(1, 30, 2)"
      ]
     },
     "execution_count": 130,
     "metadata": {},
     "output_type": "execute_result"
    }
   ],
   "source": [
    "outputs['PoG_px_final'].shape"
   ]
  },
  {
   "cell_type": "code",
   "execution_count": 33,
   "id": "0e92d0d7-192e-47a1-b757-d4d5c9f8a297",
   "metadata": {},
   "outputs": [
    {
     "data": {
      "text/plain": [
       "[('Initial Estimate',\n",
       "  array([[ 870.16675,  631.401  ],\n",
       "         [ 871.5189 ,  608.01697],\n",
       "         [ 870.97327,  607.51025],\n",
       "         [ 855.6344 ,  596.30444],\n",
       "         [ 849.87695,  599.1553 ],\n",
       "         [ 849.2261 ,  600.0177 ],\n",
       "         [ 862.6631 ,  601.4745 ],\n",
       "         [ 853.6671 ,  585.3136 ],\n",
       "         [ 864.1959 ,  587.0206 ],\n",
       "         [ 863.0836 ,  592.3374 ],\n",
       "         [ 843.61176,  602.53564],\n",
       "         [ 842.04956,  598.11145],\n",
       "         [ 850.74146,  583.5012 ],\n",
       "         [ 541.22974,  388.25775],\n",
       "         [ 530.88806,  384.9935 ],\n",
       "         [ 526.69226,  364.0498 ],\n",
       "         [ 536.75824,  365.47562],\n",
       "         [ 530.53955,  368.3319 ],\n",
       "         [ 537.01587,  355.8333 ],\n",
       "         [ 897.8745 ,  432.55194],\n",
       "         [1006.2014 ,  465.36322],\n",
       "         [1002.97565,  482.5559 ],\n",
       "         [1068.5787 ,  437.00616],\n",
       "         [1066.5491 ,  415.06946],\n",
       "         [1068.3577 ,  408.83124],\n",
       "         [1077.3525 ,  397.80463],\n",
       "         [1299.0645 ,  445.93097],\n",
       "         [1312.8704 ,  439.54965],\n",
       "         [1300.5911 ,  488.17877],\n",
       "         [1305.464  ,  494.6129 ]], dtype=float32),\n",
       "  array([ True,  True,  True,  True,  True,  True,  True,  True,  True,\n",
       "          True,  True,  True,  True,  True,  True,  True,  True,  True,\n",
       "          True,  True,  True,  True,  True,  True,  True,  True,  True,\n",
       "          True,  True,  True]),\n",
       "  [0, 180, 180]),\n",
       " ('After Refinement (Ours)',\n",
       "  array([[ 960.42615,  543.2108 ],\n",
       "         [ 960.27075,  539.1535 ],\n",
       "         [ 959.85785,  539.2811 ],\n",
       "         [ 957.0101 ,  537.514  ],\n",
       "         [ 955.9539 ,  537.97253],\n",
       "         [ 955.9447 ,  538.38477],\n",
       "         [ 958.56915,  538.7366 ],\n",
       "         [ 956.8629 ,  536.07904],\n",
       "         [ 958.7622 ,  536.7169 ],\n",
       "         [ 958.4212 ,  537.83044],\n",
       "         [ 951.75183,  543.1382 ],\n",
       "         [ 950.3723 ,  538.4683 ],\n",
       "         [ 957.2452 ,  524.50446],\n",
       "         [ 632.91223,  311.30225],\n",
       "         [ 629.99207,  306.0916 ],\n",
       "         [ 629.30865,  291.8786 ],\n",
       "         [ 635.97546,  292.29962],\n",
       "         [ 633.4554 ,  293.92438],\n",
       "         [ 637.99457,  285.42856],\n",
       "         [1017.55975,  382.74988],\n",
       "         [1127.1149 ,  402.80832],\n",
       "         [1124.4291 ,  420.25446],\n",
       "         [1196.3677 ,  381.1254 ],\n",
       "         [1185.2278 ,  356.50366],\n",
       "         [1185.3301 ,  350.60687],\n",
       "         [1193.7483 ,  341.06256],\n",
       "         [1416.6957 ,  377.93048],\n",
       "         [1426.4486 ,  373.27808],\n",
       "         [1409.9375 ,  418.7622 ],\n",
       "         [1411.0941 ,  422.17023]], dtype=float32),\n",
       "  array([ True,  True,  True,  True,  True,  True,  True,  True,  True,\n",
       "          True,  True,  True,  True,  True,  True,  True,  True,  True,\n",
       "          True,  True,  True,  True,  True,  True,  True,  True,  True,\n",
       "          True,  True,  True]),\n",
       "  [0, 180, 0])]"
      ]
     },
     "execution_count": 33,
     "metadata": {},
     "output_type": "execute_result"
    }
   ],
   "source": [
    "to_draw"
   ]
  }
 ],
 "metadata": {
  "kernelspec": {
   "display_name": "Python 3 (ipykernel)",
   "language": "python",
   "name": "python3"
  },
  "language_info": {
   "codemirror_mode": {
    "name": "ipython",
    "version": 3
   },
   "file_extension": ".py",
   "mimetype": "text/x-python",
   "name": "python",
   "nbconvert_exporter": "python",
   "pygments_lexer": "ipython3",
   "version": "3.9.6"
  }
 },
 "nbformat": 4,
 "nbformat_minor": 5
}
