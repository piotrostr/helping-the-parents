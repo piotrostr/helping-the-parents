{
 "cells": [
  {
   "cell_type": "code",
   "execution_count": 1,
   "id": "e3177c8a-4320-4dd7-94c8-f1ac07f736dd",
   "metadata": {
    "tags": []
   },
   "outputs": [],
   "source": [
    "import numpy as np\n",
    "import torch\n",
    "\n",
    "from EVE.src.datasources.eve_sequences import EVESequencesBase\n"
   ]
  },
  {
   "cell_type": "code",
   "execution_count": 57,
   "id": "95a46e81-7927-4bca-839b-726a6de61c60",
   "metadata": {
    "tags": []
   },
   "outputs": [],
   "source": [
    "dataset = EVESequencesBase(\n",
    "    'sample/eve_dataset',\n",
    "    participants_to_use=['train01']\n",
    ")\n",
    "dataloader = torch.utils.data.DataLoader(dataset)"
   ]
  },
  {
   "cell_type": "code",
   "execution_count": 4,
   "id": "5cfc8c91-30ee-46a0-82aa-3967aa6e83af",
   "metadata": {},
   "outputs": [],
   "source": [
    "np.set_printoptions(suppress=True)"
   ]
  },
  {
   "cell_type": "code",
   "execution_count": 58,
   "id": "4a73b47d-d467-4388-9b75-454ab50439a7",
   "metadata": {
    "collapsed": true,
    "jupyter": {
     "outputs_hidden": true
    },
    "tags": []
   },
   "outputs": [
    {
     "data": {
      "text/plain": [
       "array(['step008_image_MIT-i2263021117', 'step009_image_MIT-i2267703789',\n",
       "       'step010_image_MIT-istatic-outdoor-street-city-cambridge-uk-IMG-8893',\n",
       "       'step011_image_MIT-i1325514089', 'step012_image_MIT-i455593157',\n",
       "       'step013_image_MIT-istatic-outdoor-mallorca-spain-IMG-8527',\n",
       "       'step014_image_MIT-i391150010', 'step015_image_MIT-i1158217360',\n",
       "       'step016_image_MIT-i134592788', 'step017_image_MIT-i160271625',\n",
       "       'step018_image_MIT-i2236294346', 'step019_image_MIT-i20708508',\n",
       "       'step020_image_MIT-i111373642', 'step021_image_MIT-i12049788',\n",
       "       'step022_image_MIT-i1107247595', 'step023_image_MIT-i1086742403',\n",
       "       'step024_image_MIT-i2291485733',\n",
       "       'step025_image_MIT-ibarcelona-static-street-p9150528',\n",
       "       'step026_image_MIT-i335910791', 'step027_image_MIT-i1308682205',\n",
       "       'step030_video_diem-harry-potter-6-trailer',\n",
       "       'step031_video_diem-movie-trailer-ice-age-3',\n",
       "       'step032_video_vagba-track01',\n",
       "       'step033_video_kurzhals-09-ball-game',\n",
       "       'step034_video_vagba-room03',\n",
       "       'step035_video_diem-documentary-coral-reef-adventure',\n",
       "       'step036_video_vagba-tree05', 'step037_video_diem-tv-the-simpsons',\n",
       "       'step038_video_diem-scottish-parliament',\n",
       "       'step039_video_vagba-field08',\n",
       "       'step040_video_Wikimedia-Caminandes-Gran-Dillama-Blender-Foundations-new-Open-Movie',\n",
       "       'step043_wikipedia_wikipedia-random',\n",
       "       'step048_image_MIT-i2078195666', 'step049_image_MIT-i1117616565',\n",
       "       'step050_image_MIT-i2281390926', 'step051_image_MIT-i2170431637',\n",
       "       'step052_image_MIT-i1182314083', 'step053_image_MIT-i1335933891',\n",
       "       'step054_image_MIT-i1209163197',\n",
       "       'step055_image_MIT-istatic-outdoor-urban-city-street-coruna-spain-IMG-7859',\n",
       "       'step056_image_MIT-i2277843532', 'step057_image_MIT-i2224739969',\n",
       "       'step058_image_MIT-i2232823435', 'step059_image_MIT-i104880109',\n",
       "       'step060_image_MIT-i1246371431', 'step061_image_MIT-i2245334593',\n",
       "       'step062_image_MIT-i1773927318', 'step063_image_MIT-i1465270782',\n",
       "       'step064_image_MIT-i2299034477', 'step065_image_MIT-i2257749827',\n",
       "       'step066_image_MIT-istatic-barcelona-street-city-outdoor-2005-img-0588',\n",
       "       'step067_image_MIT-i2279799129', 'step070_video_vagba-foutain04',\n",
       "       'step071_video_diem-sports-kendo', 'step072_video_vagba-garden04',\n",
       "       'step073_video_Wikimedia-Wikipedia-FactsMatter2016',\n",
       "       'step074_video_vagba-lot01',\n",
       "       'step075_video_diem-sport-F1-slick-tyres',\n",
       "       'step076_video_diem-advert-iphone', 'step077_video_vagba-robarm01',\n",
       "       'step078_video_kurzhals-04-thimblerig',\n",
       "       'step079_video_vagba-gate03', 'step080_video_diem-arctic-bears',\n",
       "       'step081_video_diem-tv-ketch2',\n",
       "       'step084_wikipedia_wikipedia-random',\n",
       "       'step089_image_MIT-istatic-hotel-room-indoor-IMG-0999',\n",
       "       'step090_image_MIT-i1300905195', 'step091_image_MIT-i2301179161',\n",
       "       'step092_image_MIT-i2294701937',\n",
       "       'step093_image_MIT-istatic-outdoor-road-mallorca-spain-IMG-0641',\n",
       "       'step094_image_MIT-i2281538905', 'step095_image_MIT-i1177391126',\n",
       "       'step096_image_MIT-i2288544059', 'step097_image_MIT-i1065169436',\n",
       "       'step098_image_MIT-istatic-street-outdoor-palma-mallorca-spain-IMG-0714',\n",
       "       'step099_image_MIT-i2274770415',\n",
       "       'step100_image_MIT-istatic-hotel-room-indoor-IMG-3265',\n",
       "       'step101_image_MIT-i116604700', 'step102_image_MIT-i2241063231',\n",
       "       'step103_image_MIT-i2253396498', 'step104_image_MIT-i2286040943',\n",
       "       'step105_image_MIT-i2132126218', 'step106_image_MIT-i2051249439',\n",
       "       'step107_image_MIT-i170746079', 'step108_image_MIT-i2067603576',\n",
       "       'step111_video_vagba-field04',\n",
       "       'step112_video_diem-advert-bravia-paint',\n",
       "       'step113_video_vagba-road01',\n",
       "       'step114_video_diem-basketball-of-sorts',\n",
       "       'step115_video_diem-50-people-london',\n",
       "       'step116_video_Wikimedia-Washlets-high-tech-toilets-in-Japan',\n",
       "       'step117_video_Wikimedia-Barack-Obama-inaugural-address',\n",
       "       'step120_wikipedia_wikipedia-random'], dtype='<U82')"
      ]
     },
     "execution_count": 58,
     "metadata": {},
     "output_type": "execute_result"
    }
   ],
   "source": [
    "np.unique([inp['subfolder'] for inp in dataloader])"
   ]
  },
  {
   "cell_type": "code",
   "execution_count": 34,
   "id": "a11b99ca-ceb1-4a8d-8175-6db712a1aba6",
   "metadata": {},
   "outputs": [],
   "source": [
    "def get_means(dataloader):\n",
    "    dataloader = iter(dataloader)\n",
    "    basler = dict(\n",
    "        px_per_mm = [],\n",
    "        matrices = [],\n",
    "        transformations = [],\n",
    "    )\n",
    "    webcam_l = dict(\n",
    "        px_per_mm = [],\n",
    "        matrices = [],\n",
    "        transformations = [],\n",
    "    )\n",
    "    webcam_c = dict(\n",
    "        px_per_mm = [],\n",
    "        matrices = [],\n",
    "        transformations = [],\n",
    "    )\n",
    "    webcam_r = dict(\n",
    "        px_per_mm = [],\n",
    "        matrices = [],\n",
    "        transformations = [],\n",
    "    )\n",
    "    for inp in dataloader:\n",
    "        if inp['camera'] == ['basler']:\n",
    "            basler['px_per_mm'].append(inp['pixels_per_millimeter'][:, 0].numpy())\n",
    "            basler['matrices'].append(inp['camera_matrix'][:, 0].numpy())\n",
    "            basler['transformations'].append(inp['camera_transformation'][:, 0].numpy())\n",
    "        if inp['camera'] == ['webcam_l']:\n",
    "            webcam_l['px_per_mm'].append(inp['pixels_per_millimeter'][:, 0].numpy())\n",
    "            webcam_l['matrices'].append(inp['camera_matrix'][:, 0].numpy())\n",
    "            webcam_l['transformations'].append(inp['camera_transformation'][:, 0].numpy())\n",
    "        if inp['camera'] == ['webcam_c']:\n",
    "            webcam_c['px_per_mm'].append(inp['pixels_per_millimeter'][:, 0].numpy())\n",
    "            webcam_c['matrices'].append(inp['camera_matrix'][:, 0].numpy())\n",
    "            webcam_c['transformations'].append(inp['camera_transformation'][:, 0].numpy())\n",
    "        if inp['camera'] == ['webcam_r']:\n",
    "            webcam_r['px_per_mm'].append(inp['pixels_per_millimeter'][:, 0].numpy())\n",
    "            webcam_r['matrices'].append(inp['camera_matrix'][:, 0].numpy())\n",
    "            webcam_r['transformations'].append(inp['camera_transformation'][:, 0].numpy())\n",
    "    return basler, webcam_l, webcam_c, webcam_r"
   ]
  },
  {
   "cell_type": "code",
   "execution_count": 48,
   "id": "22b2130a-1d69-4268-b03d-e94e6af80b37",
   "metadata": {},
   "outputs": [],
   "source": [
    "def get_ct_mean(camera_transformations):\n",
    "    ct = camera_transformations\n",
    "    return np.array([\n",
    "        [ct[:, 0, 0].mean(), ct[:, 0, 1].mean(), ct[:, 0, 2].mean(), ct[:, 0, 3].mean()],\n",
    "        [ct[:, 1, 0].mean(), ct[:, 1, 1].mean(), ct[:, 1, 2].mean(), ct[:, 1, 3].mean()],\n",
    "        [ct[:, 2, 0].mean(), ct[:, 2, 1].mean(), ct[:, 2, 2].mean(), ct[:, 2, 3].mean()],\n",
    "        [ct[:, 3, 0].mean(), ct[:, 3, 1].mean(), ct[:, 3, 2].mean(), ct[:, 3, 3].mean()],\n",
    "    ])"
   ]
  },
  {
   "cell_type": "code",
   "execution_count": 49,
   "id": "1e66b635-ccd6-4825-97e3-9a61bc5f6300",
   "metadata": {},
   "outputs": [],
   "source": [
    "def get_cmtx_mean(camera_matrices):\n",
    "    cmtx = camera_matrices\n",
    "    return np.array([\n",
    "        [cmtx[:, 0, 0].mean(), cmtx[:, 0, 1].mean(), cmtx[:, 0, 2].mean()],\n",
    "        [cmtx[:, 1, 0].mean(), cmtx[:, 1, 1].mean(), cmtx[:, 1, 2].mean()],\n",
    "        [cmtx[:, 2, 0].mean(), cmtx[:, 2, 1].mean(), cmtx[:, 2, 2].mean()],\n",
    "    ])"
   ]
  },
  {
   "cell_type": "code",
   "execution_count": 36,
   "id": "89906c17-d83e-4a28-a8d3-cd8614a4cb28",
   "metadata": {},
   "outputs": [],
   "source": [
    "basler, webcam_l, webcam_c, webcam_r = get_means(dataloader)"
   ]
  },
  {
   "cell_type": "markdown",
   "id": "f4de2618-f9af-4583-97a0-78bce6937363",
   "metadata": {
    "tags": []
   },
   "source": [
    "# basler:"
   ]
  },
  {
   "cell_type": "code",
   "execution_count": 52,
   "id": "f01c4fa9-d10e-4707-9ee9-27d960593ee5",
   "metadata": {},
   "outputs": [
    {
     "name": "stdout",
     "output_type": "stream",
     "text": [
      "[[3.471971 3.472669]]\n",
      "[[  -0.9998208     0.01386724    0.01287778  265.4817    ]\n",
      " [   0.0088855     0.94479924   -0.3275297  -421.44678   ]\n",
      " [  -0.01670885   -0.32735655   -0.94475293  149.0165    ]\n",
      " [   0.            0.            0.            1.        ]]\n",
      "[[1780.604      0.       959.32904]\n",
      " [   0.      1779.855    579.3101 ]\n",
      " [   0.         0.         1.     ]]\n"
     ]
    }
   ],
   "source": [
    "print(basler['px_per_mm'][0])\n",
    "print(get_ct_mean(np.concatenate(basler['transformations'])))\n",
    "print(get_cmtx_mean(np.concatenate(basler['matrices'])))"
   ]
  },
  {
   "cell_type": "code",
   "execution_count": 6,
   "id": "ac321d83-d90a-48a4-b4f8-2f342ba3d791",
   "metadata": {},
   "outputs": [
    {
     "data": {
      "text/plain": [
       "array([[[1780.6042 ,    0.     ,  959.32886],\n",
       "        [   0.     , 1779.8547 ,  579.31006],\n",
       "        [   0.     ,    0.     ,    1.     ]]], dtype=float32)"
      ]
     },
     "execution_count": 6,
     "metadata": {},
     "output_type": "execute_result"
    }
   ],
   "source": [
    "inp['camera_matrix'][:, 0].numpy()"
   ]
  },
  {
   "cell_type": "code",
   "execution_count": 7,
   "id": "03e5034c-f53b-4d9c-a53a-5c3ebac1f26d",
   "metadata": {},
   "outputs": [
    {
     "data": {
      "text/plain": [
       "array([[[  -0.9998209 ,    0.01386724,    0.01287777,  265.4817    ],\n",
       "        [   0.0088855 ,    0.9447991 ,   -0.32752967, -421.44687   ],\n",
       "        [  -0.01670884,   -0.32735658,   -0.9447531 ,  149.0165    ],\n",
       "        [   0.        ,    0.        ,    0.        ,    1.        ]]],\n",
       "      dtype=float32)"
      ]
     },
     "execution_count": 7,
     "metadata": {},
     "output_type": "execute_result"
    }
   ],
   "source": [
    "inp['camera_transformation'][:, 0].numpy()"
   ]
  },
  {
   "cell_type": "markdown",
   "id": "847af5c2-e09a-460b-afdd-c2b597e6d01a",
   "metadata": {},
   "source": [
    "# webcam_l"
   ]
  },
  {
   "cell_type": "code",
   "execution_count": 51,
   "id": "be198b78-12b8-453f-8717-c608f4f2dbf3",
   "metadata": {},
   "outputs": [
    {
     "name": "stdout",
     "output_type": "stream",
     "text": [
      "[[3.471971 3.472669]]\n",
      "[[-0.99969506 -0.00189966 -0.02461496 21.737684  ]\n",
      " [-0.00852217  0.9623024   0.27184793 40.741585  ]\n",
      " [ 0.02317062  0.27197483 -0.96202564 -3.7921836 ]\n",
      " [ 0.          0.          0.          1.        ]]\n",
      "[[1413.7068     0.       920.9032 ]\n",
      " [   0.      1411.6295   513.69617]\n",
      " [   0.         0.         1.     ]]\n"
     ]
    }
   ],
   "source": [
    "print(webcam_l['px_per_mm'][0])\n",
    "print(get_ct_mean(np.concatenate(webcam_l['transformations'])))\n",
    "print(get_cmtx_mean(np.concatenate(webcam_l['matrices'])))"
   ]
  },
  {
   "cell_type": "code",
   "execution_count": 9,
   "id": "42db3020-2f03-4c5c-97d7-5578ba571c1c",
   "metadata": {},
   "outputs": [
    {
     "data": {
      "text/plain": [
       "array([[[1413.7065,    0.    ,  920.903 ],\n",
       "        [   0.    , 1411.6295,  513.6961],\n",
       "        [   0.    ,    0.    ,    1.    ]]], dtype=float32)"
      ]
     },
     "execution_count": 9,
     "metadata": {},
     "output_type": "execute_result"
    }
   ],
   "source": [
    "inp['camera_matrix'][:, 0].numpy()"
   ]
  },
  {
   "cell_type": "code",
   "execution_count": 10,
   "id": "419faa67-9d2d-416a-a561-977993950729",
   "metadata": {},
   "outputs": [
    {
     "data": {
      "text/plain": [
       "array([[[-0.9996952 , -0.00189966, -0.02461495, 21.737686  ],\n",
       "        [-0.00852217,  0.9623025 ,  0.2718479 , 40.74159   ],\n",
       "        [ 0.02317061,  0.27197483, -0.9620254 , -3.792184  ],\n",
       "        [ 0.        ,  0.        ,  0.        ,  1.        ]]],\n",
       "      dtype=float32)"
      ]
     },
     "execution_count": 10,
     "metadata": {},
     "output_type": "execute_result"
    }
   ],
   "source": [
    "inp['camera_transformation'][:, 0].numpy()"
   ]
  },
  {
   "cell_type": "markdown",
   "id": "7f372aab-cb68-424e-b5f3-0fea8983ea61",
   "metadata": {},
   "source": [
    "# webcam_c"
   ]
  },
  {
   "cell_type": "code",
   "execution_count": 53,
   "id": "10b8539d-fac6-4cf7-99db-edfc022cb945",
   "metadata": {},
   "outputs": [
    {
     "name": "stdout",
     "output_type": "stream",
     "text": [
      "[[3.471971 3.472669]]\n",
      "[[ -0.9999926    0.00350132   0.0014209  281.23346   ]\n",
      " [  0.00376616   0.9540883    0.2995015   49.301582  ]\n",
      " [ -0.00030702   0.2995047   -0.9540948    4.102493  ]\n",
      " [  0.           0.           0.           1.        ]]\n",
      "[[1434.8025    0.      895.1911]\n",
      " [   0.     1430.0175  520.2318]\n",
      " [   0.        0.        1.    ]]\n"
     ]
    }
   ],
   "source": [
    "print(webcam_c['px_per_mm'][0])\n",
    "print(get_ct_mean(np.concatenate(webcam_c['transformations'])))\n",
    "print(get_cmtx_mean(np.concatenate(webcam_c['matrices'])))"
   ]
  },
  {
   "cell_type": "code",
   "execution_count": 12,
   "id": "dd3c81d1-a4a0-4e97-8d15-dc667d875539",
   "metadata": {},
   "outputs": [
    {
     "data": {
      "text/plain": [
       "array([[[1434.8026 ,    0.     ,  895.1911 ],\n",
       "        [   0.     , 1430.0173 ,  520.23175],\n",
       "        [   0.     ,    0.     ,    1.     ]]], dtype=float32)"
      ]
     },
     "execution_count": 12,
     "metadata": {},
     "output_type": "execute_result"
    }
   ],
   "source": [
    "inp['camera_matrix'][:, 0].numpy()"
   ]
  },
  {
   "cell_type": "code",
   "execution_count": 13,
   "id": "13910c64-84b2-427c-8f44-7d6e9edda4ce",
   "metadata": {},
   "outputs": [
    {
     "data": {
      "text/plain": [
       "array([[[ -0.99999285,   0.00350132,   0.0014209 , 281.2335    ],\n",
       "        [  0.00376616,   0.9540884 ,   0.2995015 ,  49.301586  ],\n",
       "        [ -0.00030702,   0.29950473,  -0.95409477,   4.102493  ],\n",
       "        [  0.        ,   0.        ,   0.        ,   1.        ]]],\n",
       "      dtype=float32)"
      ]
     },
     "execution_count": 13,
     "metadata": {},
     "output_type": "execute_result"
    }
   ],
   "source": [
    "inp['camera_transformation'][:, 0].numpy()"
   ]
  },
  {
   "cell_type": "markdown",
   "id": "5e72248a-6a98-490f-8826-41d8188aead3",
   "metadata": {},
   "source": [
    "# webcam_r"
   ]
  },
  {
   "cell_type": "code",
   "execution_count": 54,
   "id": "988ac81b-99c5-4e9e-bb37-c1f65ddfe776",
   "metadata": {},
   "outputs": [
    {
     "name": "stdout",
     "output_type": "stream",
     "text": [
      "[[3.471971 3.472669]]\n",
      "[[ -0.9999392    0.00086562  -0.01097378 548.8291    ]\n",
      " [ -0.0025663    0.951102     0.3088666   47.009884  ]\n",
      " [  0.01070454   0.30887607  -0.9510421   13.909316  ]\n",
      " [  0.           0.           0.           1.        ]]\n",
      "[[1483.2804     0.       871.09283]\n",
      " [   0.      1470.7018   557.36475]\n",
      " [   0.         0.         1.     ]]\n"
     ]
    }
   ],
   "source": [
    "print(webcam_r['px_per_mm'][0])\n",
    "print(get_ct_mean(np.concatenate(webcam_r['transformations'])))\n",
    "print(get_cmtx_mean(np.concatenate(webcam_r['matrices'])))"
   ]
  },
  {
   "cell_type": "code",
   "execution_count": 15,
   "id": "d839f6bc-67aa-4d7e-8fca-326d2d1557ed",
   "metadata": {},
   "outputs": [
    {
     "data": {
      "text/plain": [
       "array([[[1483.2803,    0.    ,  871.0928],\n",
       "        [   0.    , 1470.7019,  557.3647],\n",
       "        [   0.    ,    0.    ,    1.    ]]], dtype=float32)"
      ]
     },
     "execution_count": 15,
     "metadata": {},
     "output_type": "execute_result"
    }
   ],
   "source": [
    "inp['camera_matrix'][:, 0].numpy()"
   ]
  },
  {
   "cell_type": "code",
   "execution_count": 16,
   "id": "ba0252f7-7115-46e5-bf0d-d9df50491172",
   "metadata": {},
   "outputs": [
    {
     "data": {
      "text/plain": [
       "array([[[ -0.9999394 ,   0.00086562,  -0.01097378, 548.8292    ],\n",
       "        [ -0.0025663 ,   0.9511019 ,   0.30886662,  47.009876  ],\n",
       "        [  0.01070454,   0.30887607,  -0.95104206,  13.909317  ],\n",
       "        [  0.        ,   0.        ,   0.        ,   1.        ]]],\n",
       "      dtype=float32)"
      ]
     },
     "execution_count": 16,
     "metadata": {},
     "output_type": "execute_result"
    }
   ],
   "source": [
    "inp['camera_transformation'][:, 0].numpy()"
   ]
  },
  {
   "cell_type": "code",
   "execution_count": null,
   "id": "2b41a6a1-e326-4972-adcd-e6d8ad197294",
   "metadata": {},
   "outputs": [],
   "source": []
  }
 ],
 "metadata": {
  "kernelspec": {
   "display_name": "Python 3 (ipykernel)",
   "language": "python",
   "name": "python3"
  },
  "language_info": {
   "codemirror_mode": {
    "name": "ipython",
    "version": 3
   },
   "file_extension": ".py",
   "mimetype": "text/x-python",
   "name": "python",
   "nbconvert_exporter": "python",
   "pygments_lexer": "ipython3",
   "version": "3.9.6"
  }
 },
 "nbformat": 4,
 "nbformat_minor": 5
}
