{
 "cells": [
  {
   "cell_type": "code",
   "execution_count": 1,
   "id": "70ec111b-35c2-414d-b0e0-318bd5e33e21",
   "metadata": {},
   "outputs": [],
   "source": [
    "import cv2\n",
    "import eos\n",
    "import glob\n",
    "import numpy as np\n",
    "\n",
    "from face_alignment import FaceAlignment, LandmarksType\n",
    "from preprocess import calibrate"
   ]
  },
  {
   "cell_type": "code",
   "execution_count": 2,
   "id": "7ed3c037-c4c4-46ec-ba99-823c7a3626ec",
   "metadata": {},
   "outputs": [],
   "source": [
    "np.set_printoptions(suppress=True)"
   ]
  },
  {
   "cell_type": "code",
   "execution_count": 3,
   "id": "57892359-0882-4f23-9c5e-2551dc1a347e",
   "metadata": {},
   "outputs": [],
   "source": [
    "images = [cv2.imread(f) for f in glob.glob('./data/*.jpg')]\n",
    "images = [cv2.resize(img, (1920, 1080)) for img in images]"
   ]
  },
  {
   "cell_type": "code",
   "execution_count": 4,
   "id": "5991907d-34dd-47c8-ab57-440ce665138d",
   "metadata": {},
   "outputs": [
    {
     "name": "stdout",
     "output_type": "stream",
     "text": [
      "Camera calibrated successfully, re-projection error: 0.064171\n"
     ]
    }
   ],
   "source": [
    "ret, mtx, dist, rvecs, tvecs = calibrate(images)"
   ]
  },
  {
   "cell_type": "code",
   "execution_count": 5,
   "id": "f397f91e-8f23-4005-9e49-6811eb2e4af9",
   "metadata": {},
   "outputs": [
    {
     "data": {
      "text/plain": [
       "array([[1477.45381478,    0.        , 1059.01536757],\n",
       "       [   0.        , 1475.03559662,  569.81485806],\n",
       "       [   0.        ,    0.        ,    1.        ]])"
      ]
     },
     "execution_count": 5,
     "metadata": {},
     "output_type": "execute_result"
    }
   ],
   "source": [
    "mtx"
   ]
  },
  {
   "cell_type": "code",
   "execution_count": 7,
   "id": "d7412b09-bc53-4532-af96-95bc209b7086",
   "metadata": {},
   "outputs": [],
   "source": [
    "ret, frame = cv2.VideoCapture('./data/face.mp4').read()"
   ]
  },
  {
   "cell_type": "code",
   "execution_count": 8,
   "id": "f77185b3-1186-4f03-a072-7603c22563db",
   "metadata": {},
   "outputs": [],
   "source": [
    "fa3d = FaceAlignment(LandmarksType._3D,\n",
    "                     flip_input=False,\n",
    "                     device='cpu',\n",
    "                     face_detector='blazeface')"
   ]
  },
  {
   "cell_type": "code",
   "execution_count": 53,
   "id": "ddfb14f9-7164-4c70-8ae0-08e3daa19240",
   "metadata": {},
   "outputs": [],
   "source": [
    "[landmarks] = fa3d.get_landmarks(frame) "
   ]
  },
  {
   "cell_type": "markdown",
   "id": "36705723-aafc-4bd5-a551-81d2ade5799c",
   "metadata": {},
   "source": [
    "___"
   ]
  },
  {
   "cell_type": "code",
   "execution_count": 17,
   "id": "3c5a947b-ac6c-453e-83b2-de686e4e1e71",
   "metadata": {},
   "outputs": [],
   "source": [
    "model = eos.morphablemodel.load_model(\"eos/share/sfm_shape_3448.bin\")"
   ]
  },
  {
   "cell_type": "code",
   "execution_count": 19,
   "id": "d24f11af-eccd-43dd-8efc-251903d83583",
   "metadata": {},
   "outputs": [],
   "source": [
    "landmark_mapper = eos.core.LandmarkMapper('eos/share/ibug_to_sfm.txt')"
   ]
  },
  {
   "cell_type": "code",
   "execution_count": 18,
   "id": "6df229bc-b4eb-4528-8cd7-4cb7382a7ce1",
   "metadata": {},
   "outputs": [],
   "source": [
    "shape_model = model.get_shape_model()"
   ]
  },
  {
   "cell_type": "code",
   "execution_count": 54,
   "id": "497cb3a4-82fa-420c-a09c-2182ee6c75b9",
   "metadata": {},
   "outputs": [],
   "source": [
    "landmarks = landmarks[:, :2]"
   ]
  },
  {
   "cell_type": "code",
   "execution_count": 56,
   "id": "b9d4835a-c0be-45c0-9dcc-92c42c454bc1",
   "metadata": {},
   "outputs": [],
   "source": [
    "class PNP:\n",
    "    \n",
    "    ibug_ids_to_use = sorted([\n",
    "        28, 29, 30, 31,  # nose ridge\n",
    "        32, 33, 34, 35, 36,  # nose base\n",
    "        37, 40,  # left-eye corners\n",
    "        43, 46,  # right-eye corners\n",
    "    ])\n",
    "    \n",
    "    def __init__(self):\n",
    "        self.model = eos.morphablemodel.load_model('eos/share/sfm_shape_3448.bin')\n",
    "        self.shape_model = self.model.get_shape_model()\n",
    "        self.landmarks_mapper = eos.core.LandmarkMapper('eos/share/ibug_to_sfm.txt')\n",
    "        self.sfm_points_ibug_subset = np.array([\n",
    "            self.shape_model.get_mean_at_point(\n",
    "                int(self.landmarks_mapper.convert(str(d)))\n",
    "            )\n",
    "            for d in range(1, 69)\n",
    "            if self.landmarks_mapper.convert(str(d)) is not None\n",
    "        ])\n",
    "        self.sfm_points_for_pnp = np.array([\n",
    "            self.shape_model.get_mean_at_point(\n",
    "                int(self.landmarks_mapper.convert(str(d)))\n",
    "            )\n",
    "            for d in self.ibug_ids_to_use\n",
    "        ])\n",
    "        \n",
    "    def solve(self, landmarks, camera_matrix):\n",
    "        landmarks = np.array([\n",
    "            landmarks[i - 1, :]\n",
    "            for i in self.ibug_ids_to_use\n",
    "        ], dtype=np.float64)\n",
    "        success, rvec, tvec, inliers = cv2.solvePnPRansac(self.sfm_points_for_pnp, landmarks,\n",
    "                                                          camera_matrix, None, flags=cv2.SOLVEPNP_EPNP)\n",
    "        success, rvec, tvec = cv2.solvePnP(self.sfm_points_for_pnp, landmarks, camera_matrix, None,\n",
    "                                           rvec=rvec, tvec=tvec, useExtrinsicGuess=True, flags=cv2.SOLVEPNP_ITERATIVE)\n",
    "        return rvec, tvec"
   ]
  },
  {
   "cell_type": "code",
   "execution_count": 57,
   "id": "490f592a-f958-448d-85de-cc25850bdd72",
   "metadata": {},
   "outputs": [
    {
     "data": {
      "text/plain": [
       "(array([[-2.91352882],\n",
       "        [ 0.07632486],\n",
       "        [-0.45311698]]),\n",
       " array([[-305.46629741],\n",
       "        [-148.48374817],\n",
       "        [1087.90933709]]))"
      ]
     },
     "execution_count": 57,
     "metadata": {},
     "output_type": "execute_result"
    }
   ],
   "source": [
    "PNP().solve(landmarks, mtx)"
   ]
  },
  {
   "cell_type": "markdown",
   "id": "2072f967-1956-4c14-a0e8-8f76072edaf3",
   "metadata": {},
   "source": [
    "___"
   ]
  },
  {
   "cell_type": "markdown",
   "id": "c78891d8-45e2-4eaf-8881-d4c199f5cdad",
   "metadata": {},
   "source": [
    "could also get the pose from the eos model fitting"
   ]
  },
  {
   "cell_type": "code",
   "execution_count": null,
   "id": "af2a80dd-7c80-41f4-8082-2174ab8fd9cd",
   "metadata": {},
   "outputs": [],
   "source": [
    "sfrm_points_ibug_subset = np.array(shape_model.get_mean_at_point(\n",
    "    landmark_mapper.convert\n",
    "))"
   ]
  },
  {
   "cell_type": "code",
   "execution_count": 10,
   "id": "f87e3702-19e2-43f9-8d8e-0ff431a9e245",
   "metadata": {},
   "outputs": [],
   "source": [
    "blendshapes = eos.morphablemodel.load_blendshapes(\"eos/share/expression_blendshapes_3448.bin\")\n",
    "morphablemodel_with_expressions = eos.morphablemodel.MorphableModel(\n",
    "    model.get_shape_model(),\n",
    "    blendshapes,\n",
    "    color_model=eos.morphablemodel.PcaModel(),\n",
    "    vertex_definitions=None,\n",
    "    texture_coordinates=model.get_texture_coordinates()\n",
    ")"
   ]
  },
  {
   "cell_type": "code",
   "execution_count": 11,
   "id": "eb163f82-35eb-4bd3-82b7-d82a6742d8ba",
   "metadata": {},
   "outputs": [],
   "source": [
    "image_height, image_width, _ = frame.shape"
   ]
  },
  {
   "cell_type": "code",
   "execution_count": 12,
   "id": "cdc43307-083a-468f-895a-8cee6a812eeb",
   "metadata": {},
   "outputs": [],
   "source": [
    "_landmarks = [\n",
    "    eos.core.Landmark(str(i), [x, y]) \n",
    "    for i, [x, y] in enumerate(zip(landmarks[:, 0], landmarks[:, 1]))\n",
    "]"
   ]
  },
  {
   "cell_type": "code",
   "execution_count": 13,
   "id": "125e340f-a66b-4cdf-b74d-914e24d4271d",
   "metadata": {},
   "outputs": [],
   "source": [
    "edge_topology = eos.morphablemodel.load_edge_topology('eos/share/sfm_3448_edge_topology.json')\n",
    "contour_landmarks = eos.fitting.ContourLandmarks.load('eos/share/ibug_to_sfm.txt')\n",
    "model_contour = eos.fitting.ModelContour.load('eos/share/sfm_model_contours.json')\n",
    "\n",
    "(mesh, pose, shape_coeffs, blendshape_coeffs) = eos.fitting.fit_shape_and_pose(morphablemodel_with_expressions,\n",
    "    _landmarks, landmark_mapper, image_width, image_height, edge_topology, contour_landmarks, model_contour)\n"
   ]
  },
  {
   "cell_type": "code",
   "execution_count": 14,
   "id": "d939da8e-67bd-4b99-9ebf-023598ee6157",
   "metadata": {},
   "outputs": [
    {
     "data": {
      "text/plain": [
       "array([[  0.8888019 ,   0.02127027,   0.45779783, 518.33057   ],\n",
       "       [ -0.06249542,   0.9952162 ,   0.07509327, 278.39148   ],\n",
       "       [ -0.45401055,  -0.09535331,   0.88587934,   0.        ],\n",
       "       [  0.        ,   0.        ,   0.        ,   1.        ]],\n",
       "      dtype=float32)"
      ]
     },
     "execution_count": 14,
     "metadata": {},
     "output_type": "execute_result"
    }
   ],
   "source": [
    "pose.get_modelview()"
   ]
  },
  {
   "cell_type": "code",
   "execution_count": 15,
   "id": "d8b5ef73-307f-453a-99a6-de86cc86bdc6",
   "metadata": {},
   "outputs": [
    {
     "data": {
      "text/plain": [
       "array([-0.04389282,  0.23480578, -0.02157105,  0.97081125], dtype=float32)"
      ]
     },
     "execution_count": 15,
     "metadata": {},
     "output_type": "execute_result"
    }
   ],
   "source": [
    "pose.get_rotation()"
   ]
  },
  {
   "cell_type": "code",
   "execution_count": 16,
   "id": "4adc8440-2ee8-42bb-8e46-e398ab2cce8f",
   "metadata": {},
   "outputs": [
    {
     "data": {
      "text/plain": [
       "array([-0.10722407,  0.47126138, -0.07019868], dtype=float32)"
      ]
     },
     "execution_count": 16,
     "metadata": {},
     "output_type": "execute_result"
    }
   ],
   "source": [
    "pose.get_rotation_euler_angles()"
   ]
  }
 ],
 "metadata": {
  "kernelspec": {
   "display_name": "Python 3 (ipykernel)",
   "language": "python",
   "name": "python3"
  },
  "language_info": {
   "codemirror_mode": {
    "name": "ipython",
    "version": 3
   },
   "file_extension": ".py",
   "mimetype": "text/x-python",
   "name": "python",
   "nbconvert_exporter": "python",
   "pygments_lexer": "ipython3",
   "version": "3.9.6"
  }
 },
 "nbformat": 4,
 "nbformat_minor": 5
}
