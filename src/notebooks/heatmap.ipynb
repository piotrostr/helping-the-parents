{
 "cells": [
  {
   "cell_type": "code",
   "execution_count": 3,
   "id": "69388567-ad24-400b-9319-a355bbd34be8",
   "metadata": {},
   "outputs": [],
   "source": [
    "import matplotlib.pyplot as plt\n",
    "import pickle"
   ]
  },
  {
   "cell_type": "code",
   "execution_count": 4,
   "id": "6172ea79-522e-40c6-92fa-d4a6140ce530",
   "metadata": {},
   "outputs": [],
   "source": [
    "with open('out.pkl', 'rb') as f:\n",
    "    out = pickle.load(f)"
   ]
  },
  {
   "cell_type": "code",
   "execution_count": 6,
   "id": "c11c024e-6128-48f0-9dd5-86d86e89c101",
   "metadata": {},
   "outputs": [],
   "source": [
    "heatmap = out['final_heatmap']"
   ]
  },
  {
   "cell_type": "code",
   "execution_count": 39,
   "id": "ba6d6308-5f50-438f-bbde-d1b04df71c75",
   "metadata": {},
   "outputs": [],
   "source": [
    "img = out['screen_frame']"
   ]
  },
  {
   "cell_type": "code",
   "execution_count": 41,
   "id": "e273b87d-a53b-4770-a895-d9a42bbe40b9",
   "metadata": {},
   "outputs": [],
   "source": [
    "img = (img.squeeze(0).transpose(1, 2).transpose(0, 2) * 255).numpy().astype(int)"
   ]
  },
  {
   "cell_type": "code",
   "execution_count": 43,
   "id": "64493ada-a4f9-4132-85be-3776138e8177",
   "metadata": {},
   "outputs": [],
   "source": [
    "heatmap = (heatmap.squeeze(0).transpose(1, 2).transpose(0, 2) * 255).numpy().astype(int)"
   ]
  },
  {
   "cell_type": "code",
   "execution_count": 45,
   "id": "cb343368-3683-4957-bb8c-b5d31fafd387",
   "metadata": {},
   "outputs": [
    {
     "data": {
      "text/plain": [
       "True"
      ]
     },
     "execution_count": 45,
     "metadata": {},
     "output_type": "execute_result"
    }
   ],
   "source": [
    "cv2.imwrite('heatmap.jpg', heatmap)"
   ]
  }
 ],
 "metadata": {
  "kernelspec": {
   "display_name": "Python 3 (ipykernel)",
   "language": "python",
   "name": "python3"
  },
  "language_info": {
   "codemirror_mode": {
    "name": "ipython",
    "version": 3
   },
   "file_extension": ".py",
   "mimetype": "text/x-python",
   "name": "python",
   "nbconvert_exporter": "python",
   "pygments_lexer": "ipython3",
   "version": "3.9.6"
  }
 },
 "nbformat": 4,
 "nbformat_minor": 5
}
